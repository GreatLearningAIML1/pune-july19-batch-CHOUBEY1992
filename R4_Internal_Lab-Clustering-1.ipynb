{
 "cells": [
  {
   "cell_type": "markdown",
   "metadata": {
    "colab_type": "text",
    "id": "zfsiaKcDho8W"
   },
   "source": [
    "### The data set has information about features of silhouette extracted from the images of different cars\n",
    "\n",
    "Four \"Corgie\" model vehicles were used for the experiment: a double decker bus, Cheverolet van, Saab 9000 and an Opel Manta 400 cars. This particular combination of vehicles was chosen with the expectation that the bus, van and either one of the cars would be readily distinguishable, but it would be more difficult to distinguish between the cars.\n",
    "\n"
   ]
  },
  {
   "cell_type": "markdown",
   "metadata": {
    "colab_type": "text",
    "id": "kVtZqLhGho8c"
   },
   "source": [
    "### 1. Read the dataset using function .dropna() - to avoid dealing with NAs as of now"
   ]
  },
  {
   "cell_type": "code",
   "execution_count": 182,
   "metadata": {
    "colab": {},
    "colab_type": "code",
    "id": "VbKTspg4ho8g"
   },
   "outputs": [],
   "source": [
    "import pandas as pd\n",
    "import numpy as np\n",
    "import matplotlib.pyplot as plt\n",
    "pd.set_option('display.max_rows', 3000)\n",
    "from sklearn.cluster import KMeans\n",
    "from sklearn import metrics\n",
    "from scipy.cluster.hierarchy import cophenet, dendrogram, linkage\n",
    "from scipy.spatial.distance import pdist\n",
    "from scipy.spatial.distance import cdist\n",
    "import scipy.cluster.hierarchy as sch\n",
    "from scipy import stats\n",
    "vehicle = pd.read_csv('vehicle.csv')\n",
    "vehicle.dropna(inplace=True)"
   ]
  },
  {
   "cell_type": "code",
   "execution_count": 94,
   "metadata": {},
   "outputs": [
    {
     "data": {
      "text/html": [
       "<div>\n",
       "<style scoped>\n",
       "    .dataframe tbody tr th:only-of-type {\n",
       "        vertical-align: middle;\n",
       "    }\n",
       "\n",
       "    .dataframe tbody tr th {\n",
       "        vertical-align: top;\n",
       "    }\n",
       "\n",
       "    .dataframe thead th {\n",
       "        text-align: right;\n",
       "    }\n",
       "</style>\n",
       "<table border=\"1\" class=\"dataframe\">\n",
       "  <thead>\n",
       "    <tr style=\"text-align: right;\">\n",
       "      <th></th>\n",
       "      <th>count</th>\n",
       "      <th>mean</th>\n",
       "      <th>std</th>\n",
       "      <th>min</th>\n",
       "      <th>25%</th>\n",
       "      <th>50%</th>\n",
       "      <th>75%</th>\n",
       "      <th>max</th>\n",
       "    </tr>\n",
       "  </thead>\n",
       "  <tbody>\n",
       "    <tr>\n",
       "      <th>compactness</th>\n",
       "      <td>813.0</td>\n",
       "      <td>93.656827</td>\n",
       "      <td>8.233751</td>\n",
       "      <td>73.0</td>\n",
       "      <td>87.0</td>\n",
       "      <td>93.0</td>\n",
       "      <td>100.0</td>\n",
       "      <td>119.0</td>\n",
       "    </tr>\n",
       "    <tr>\n",
       "      <th>circularity</th>\n",
       "      <td>813.0</td>\n",
       "      <td>44.803198</td>\n",
       "      <td>6.146659</td>\n",
       "      <td>33.0</td>\n",
       "      <td>40.0</td>\n",
       "      <td>44.0</td>\n",
       "      <td>49.0</td>\n",
       "      <td>59.0</td>\n",
       "    </tr>\n",
       "    <tr>\n",
       "      <th>distance_circularity</th>\n",
       "      <td>813.0</td>\n",
       "      <td>82.043050</td>\n",
       "      <td>15.783070</td>\n",
       "      <td>40.0</td>\n",
       "      <td>70.0</td>\n",
       "      <td>79.0</td>\n",
       "      <td>98.0</td>\n",
       "      <td>112.0</td>\n",
       "    </tr>\n",
       "    <tr>\n",
       "      <th>radius_ratio</th>\n",
       "      <td>813.0</td>\n",
       "      <td>169.098401</td>\n",
       "      <td>33.615402</td>\n",
       "      <td>104.0</td>\n",
       "      <td>141.0</td>\n",
       "      <td>167.0</td>\n",
       "      <td>195.0</td>\n",
       "      <td>333.0</td>\n",
       "    </tr>\n",
       "    <tr>\n",
       "      <th>pr.axis_aspect_ratio</th>\n",
       "      <td>813.0</td>\n",
       "      <td>61.774908</td>\n",
       "      <td>7.973000</td>\n",
       "      <td>47.0</td>\n",
       "      <td>57.0</td>\n",
       "      <td>61.0</td>\n",
       "      <td>65.0</td>\n",
       "      <td>138.0</td>\n",
       "    </tr>\n",
       "    <tr>\n",
       "      <th>max.length_aspect_ratio</th>\n",
       "      <td>813.0</td>\n",
       "      <td>8.599016</td>\n",
       "      <td>4.677174</td>\n",
       "      <td>2.0</td>\n",
       "      <td>7.0</td>\n",
       "      <td>8.0</td>\n",
       "      <td>10.0</td>\n",
       "      <td>55.0</td>\n",
       "    </tr>\n",
       "    <tr>\n",
       "      <th>scatter_ratio</th>\n",
       "      <td>813.0</td>\n",
       "      <td>168.563346</td>\n",
       "      <td>33.082186</td>\n",
       "      <td>112.0</td>\n",
       "      <td>146.0</td>\n",
       "      <td>157.0</td>\n",
       "      <td>198.0</td>\n",
       "      <td>265.0</td>\n",
       "    </tr>\n",
       "    <tr>\n",
       "      <th>elongatedness</th>\n",
       "      <td>813.0</td>\n",
       "      <td>40.988930</td>\n",
       "      <td>7.803380</td>\n",
       "      <td>26.0</td>\n",
       "      <td>33.0</td>\n",
       "      <td>43.0</td>\n",
       "      <td>46.0</td>\n",
       "      <td>61.0</td>\n",
       "    </tr>\n",
       "    <tr>\n",
       "      <th>pr.axis_rectangularity</th>\n",
       "      <td>813.0</td>\n",
       "      <td>20.558426</td>\n",
       "      <td>2.573184</td>\n",
       "      <td>17.0</td>\n",
       "      <td>19.0</td>\n",
       "      <td>20.0</td>\n",
       "      <td>23.0</td>\n",
       "      <td>29.0</td>\n",
       "    </tr>\n",
       "    <tr>\n",
       "      <th>max.length_rectangularity</th>\n",
       "      <td>813.0</td>\n",
       "      <td>147.891759</td>\n",
       "      <td>14.504648</td>\n",
       "      <td>118.0</td>\n",
       "      <td>137.0</td>\n",
       "      <td>146.0</td>\n",
       "      <td>159.0</td>\n",
       "      <td>188.0</td>\n",
       "    </tr>\n",
       "    <tr>\n",
       "      <th>scaled_variance</th>\n",
       "      <td>813.0</td>\n",
       "      <td>188.377614</td>\n",
       "      <td>31.165873</td>\n",
       "      <td>130.0</td>\n",
       "      <td>167.0</td>\n",
       "      <td>179.0</td>\n",
       "      <td>217.0</td>\n",
       "      <td>320.0</td>\n",
       "    </tr>\n",
       "    <tr>\n",
       "      <th>scaled_variance.1</th>\n",
       "      <td>813.0</td>\n",
       "      <td>438.382534</td>\n",
       "      <td>175.270368</td>\n",
       "      <td>184.0</td>\n",
       "      <td>318.0</td>\n",
       "      <td>364.0</td>\n",
       "      <td>586.0</td>\n",
       "      <td>1018.0</td>\n",
       "    </tr>\n",
       "    <tr>\n",
       "      <th>scaled_radius_of_gyration</th>\n",
       "      <td>813.0</td>\n",
       "      <td>174.252153</td>\n",
       "      <td>32.332161</td>\n",
       "      <td>109.0</td>\n",
       "      <td>149.0</td>\n",
       "      <td>173.0</td>\n",
       "      <td>198.0</td>\n",
       "      <td>268.0</td>\n",
       "    </tr>\n",
       "    <tr>\n",
       "      <th>scaled_radius_of_gyration.1</th>\n",
       "      <td>813.0</td>\n",
       "      <td>72.399754</td>\n",
       "      <td>7.475994</td>\n",
       "      <td>59.0</td>\n",
       "      <td>67.0</td>\n",
       "      <td>71.0</td>\n",
       "      <td>75.0</td>\n",
       "      <td>135.0</td>\n",
       "    </tr>\n",
       "    <tr>\n",
       "      <th>skewness_about</th>\n",
       "      <td>813.0</td>\n",
       "      <td>6.351784</td>\n",
       "      <td>4.921476</td>\n",
       "      <td>0.0</td>\n",
       "      <td>2.0</td>\n",
       "      <td>6.0</td>\n",
       "      <td>9.0</td>\n",
       "      <td>22.0</td>\n",
       "    </tr>\n",
       "    <tr>\n",
       "      <th>skewness_about.1</th>\n",
       "      <td>813.0</td>\n",
       "      <td>12.687577</td>\n",
       "      <td>8.926951</td>\n",
       "      <td>0.0</td>\n",
       "      <td>6.0</td>\n",
       "      <td>11.0</td>\n",
       "      <td>19.0</td>\n",
       "      <td>41.0</td>\n",
       "    </tr>\n",
       "    <tr>\n",
       "      <th>skewness_about.2</th>\n",
       "      <td>813.0</td>\n",
       "      <td>188.979090</td>\n",
       "      <td>6.153681</td>\n",
       "      <td>176.0</td>\n",
       "      <td>184.0</td>\n",
       "      <td>189.0</td>\n",
       "      <td>193.0</td>\n",
       "      <td>206.0</td>\n",
       "    </tr>\n",
       "    <tr>\n",
       "      <th>hollows_ratio</th>\n",
       "      <td>813.0</td>\n",
       "      <td>195.729397</td>\n",
       "      <td>7.398781</td>\n",
       "      <td>181.0</td>\n",
       "      <td>191.0</td>\n",
       "      <td>197.0</td>\n",
       "      <td>201.0</td>\n",
       "      <td>211.0</td>\n",
       "    </tr>\n",
       "  </tbody>\n",
       "</table>\n",
       "</div>"
      ],
      "text/plain": [
       "                             count        mean         std    min    25%  \\\n",
       "compactness                  813.0   93.656827    8.233751   73.0   87.0   \n",
       "circularity                  813.0   44.803198    6.146659   33.0   40.0   \n",
       "distance_circularity         813.0   82.043050   15.783070   40.0   70.0   \n",
       "radius_ratio                 813.0  169.098401   33.615402  104.0  141.0   \n",
       "pr.axis_aspect_ratio         813.0   61.774908    7.973000   47.0   57.0   \n",
       "max.length_aspect_ratio      813.0    8.599016    4.677174    2.0    7.0   \n",
       "scatter_ratio                813.0  168.563346   33.082186  112.0  146.0   \n",
       "elongatedness                813.0   40.988930    7.803380   26.0   33.0   \n",
       "pr.axis_rectangularity       813.0   20.558426    2.573184   17.0   19.0   \n",
       "max.length_rectangularity    813.0  147.891759   14.504648  118.0  137.0   \n",
       "scaled_variance              813.0  188.377614   31.165873  130.0  167.0   \n",
       "scaled_variance.1            813.0  438.382534  175.270368  184.0  318.0   \n",
       "scaled_radius_of_gyration    813.0  174.252153   32.332161  109.0  149.0   \n",
       "scaled_radius_of_gyration.1  813.0   72.399754    7.475994   59.0   67.0   \n",
       "skewness_about               813.0    6.351784    4.921476    0.0    2.0   \n",
       "skewness_about.1             813.0   12.687577    8.926951    0.0    6.0   \n",
       "skewness_about.2             813.0  188.979090    6.153681  176.0  184.0   \n",
       "hollows_ratio                813.0  195.729397    7.398781  181.0  191.0   \n",
       "\n",
       "                               50%    75%     max  \n",
       "compactness                   93.0  100.0   119.0  \n",
       "circularity                   44.0   49.0    59.0  \n",
       "distance_circularity          79.0   98.0   112.0  \n",
       "radius_ratio                 167.0  195.0   333.0  \n",
       "pr.axis_aspect_ratio          61.0   65.0   138.0  \n",
       "max.length_aspect_ratio        8.0   10.0    55.0  \n",
       "scatter_ratio                157.0  198.0   265.0  \n",
       "elongatedness                 43.0   46.0    61.0  \n",
       "pr.axis_rectangularity        20.0   23.0    29.0  \n",
       "max.length_rectangularity    146.0  159.0   188.0  \n",
       "scaled_variance              179.0  217.0   320.0  \n",
       "scaled_variance.1            364.0  586.0  1018.0  \n",
       "scaled_radius_of_gyration    173.0  198.0   268.0  \n",
       "scaled_radius_of_gyration.1   71.0   75.0   135.0  \n",
       "skewness_about                 6.0    9.0    22.0  \n",
       "skewness_about.1              11.0   19.0    41.0  \n",
       "skewness_about.2             189.0  193.0   206.0  \n",
       "hollows_ratio                197.0  201.0   211.0  "
      ]
     },
     "execution_count": 94,
     "metadata": {},
     "output_type": "execute_result"
    }
   ],
   "source": [
    "vehicle.describe().T"
   ]
  },
  {
   "cell_type": "markdown",
   "metadata": {
    "colab_type": "text",
    "id": "Ku4eS0ZAho8s"
   },
   "source": [
    "### 2. Print/ Plot the dependent (categorical variable) - Class column"
   ]
  },
  {
   "cell_type": "markdown",
   "metadata": {
    "colab_type": "text",
    "id": "R1mfF_hiho8v"
   },
   "source": [
    "Since the variable is categorical, you can use value_counts function"
   ]
  },
  {
   "cell_type": "code",
   "execution_count": 95,
   "metadata": {},
   "outputs": [
    {
     "data": {
      "text/plain": [
       "(813, 19)"
      ]
     },
     "execution_count": 95,
     "metadata": {},
     "output_type": "execute_result"
    }
   ],
   "source": [
    "vehicle.shape"
   ]
  },
  {
   "cell_type": "code",
   "execution_count": 96,
   "metadata": {
    "colab": {},
    "colab_type": "code",
    "id": "_dP5-zpUho81"
   },
   "outputs": [
    {
     "data": {
      "text/plain": [
       "car    413\n",
       "bus    205\n",
       "van    195\n",
       "Name: class, dtype: int64"
      ]
     },
     "execution_count": 96,
     "metadata": {},
     "output_type": "execute_result"
    }
   ],
   "source": [
    "class_of_vehicle = vehicle['class'].value_counts()\n",
    "class_of_vehicle"
   ]
  },
  {
   "cell_type": "code",
   "execution_count": 97,
   "metadata": {},
   "outputs": [
    {
     "data": {
      "text/plain": [
       "(array([2., 0., 0., 0., 0., 0., 0., 0., 0., 1.]),\n",
       " array([195. , 216.8, 238.6, 260.4, 282.2, 304. , 325.8, 347.6, 369.4,\n",
       "        391.2, 413. ]),\n",
       " <a list of 10 Patch objects>)"
      ]
     },
     "execution_count": 97,
     "metadata": {},
     "output_type": "execute_result"
    },
    {
     "data": {
      "image/png": "[encoded data removed]",
      "text/plain": [
       "<Figure size 432x288 with 1 Axes>"
      ]
     },
     "metadata": {
      "needs_background": "light"
     },
     "output_type": "display_data"
    }
   ],
   "source": [
    "plt.hist(class_of_vehicle,stacked = True)"
   ]
  },
  {
   "cell_type": "markdown",
   "metadata": {
    "colab_type": "text",
    "id": "ZFsXYI5qho9E"
   },
   "source": [
    "### Check for any missing values in the data "
   ]
  },
  {
   "cell_type": "code",
   "execution_count": 98,
   "metadata": {
    "colab": {},
    "colab_type": "code",
    "id": "qb77DNfwho9J"
   },
   "outputs": [
    {
     "data": {
      "text/plain": [
       "compactness                    False\n",
       "circularity                    False\n",
       "distance_circularity           False\n",
       "radius_ratio                   False\n",
       "pr.axis_aspect_ratio           False\n",
       "max.length_aspect_ratio        False\n",
       "scatter_ratio                  False\n",
       "elongatedness                  False\n",
       "pr.axis_rectangularity         False\n",
       "max.length_rectangularity      False\n",
       "scaled_variance                False\n",
       "scaled_variance.1              False\n",
       "scaled_radius_of_gyration      False\n",
       "scaled_radius_of_gyration.1    False\n",
       "skewness_about                 False\n",
       "skewness_about.1               False\n",
       "skewness_about.2               False\n",
       "hollows_ratio                  False\n",
       "class                          False\n",
       "dtype: bool"
      ]
     },
     "execution_count": 98,
     "metadata": {},
     "output_type": "execute_result"
    }
   ],
   "source": [
    "vehicle.any().isnull()"
   ]
  },
  {
   "cell_type": "code",
   "execution_count": 99,
   "metadata": {},
   "outputs": [],
   "source": [
    "vehicle_unsupervised = vehicle.drop('class',axis=1)"
   ]
  },
  {
   "cell_type": "markdown",
   "metadata": {
    "colab_type": "text",
    "id": "AwUdJm9qho9U"
   },
   "source": [
    "### 3. Standardize the data "
   ]
  },
  {
   "cell_type": "markdown",
   "metadata": {
    "colab_type": "text",
    "id": "x6z10bgjho9j"
   },
   "source": [
    "Since the dimensions of the data are not really known to us, it would be wise to standardize the data using z scores before we go for any clustering methods.\n",
    "You can use zscore function to do this"
   ]
  },
  {
   "cell_type": "code",
   "execution_count": 100,
   "metadata": {
    "colab": {},
    "colab_type": "code",
    "id": "qed3MlPjho9n"
   },
   "outputs": [],
   "source": [
    "vehicle_scaled = vehicle_unsupervised.apply(stats.zscore)"
   ]
  },
  {
   "cell_type": "code",
   "execution_count": null,
   "metadata": {
    "colab": {},
    "colab_type": "code",
    "id": "pbGN_7mhho9y"
   },
   "outputs": [],
   "source": []
  },
  {
   "cell_type": "markdown",
   "metadata": {
    "colab_type": "text",
    "id": "weIwi8cxho-C"
   },
   "source": [
    "### K - Means Clustering"
   ]
  },
  {
   "cell_type": "markdown",
   "metadata": {
    "colab_type": "text",
    "id": "YdA5yJ1m61-L"
   },
   "source": [
    "### Assign a dummy array called Cluster_error"
   ]
  },
  {
   "cell_type": "code",
   "execution_count": null,
   "metadata": {
    "colab": {},
    "colab_type": "code",
    "id": "PRcbAApuho-g"
   },
   "outputs": [],
   "source": []
  },
  {
   "cell_type": "markdown",
   "metadata": {
    "colab_type": "text",
    "id": "ywuVdFe2ho-t"
   },
   "source": [
    "### 5. Calculate errorrs for each K"
   ]
  },
  {
   "cell_type": "markdown",
   "metadata": {
    "colab_type": "text",
    "id": "PJznnrkc68nf"
   },
   "source": [
    "Iterating values of k from 1 to 10 fit K means model\n",
    "Using inertia"
   ]
  },
  {
   "cell_type": "code",
   "execution_count": 101,
   "metadata": {
    "colab": {},
    "colab_type": "code",
    "id": "uc49grvmho-2"
   },
   "outputs": [
    {
     "data": {
      "text/html": [
       "<div>\n",
       "<style scoped>\n",
       "    .dataframe tbody tr th:only-of-type {\n",
       "        vertical-align: middle;\n",
       "    }\n",
       "\n",
       "    .dataframe tbody tr th {\n",
       "        vertical-align: top;\n",
       "    }\n",
       "\n",
       "    .dataframe thead th {\n",
       "        text-align: right;\n",
       "    }\n",
       "</style>\n",
       "<table border=\"1\" class=\"dataframe\">\n",
       "  <thead>\n",
       "    <tr style=\"text-align: right;\">\n",
       "      <th></th>\n",
       "      <th>num_clusters</th>\n",
       "      <th>cluster_error</th>\n",
       "    </tr>\n",
       "  </thead>\n",
       "  <tbody>\n",
       "    <tr>\n",
       "      <th>0</th>\n",
       "      <td>1</td>\n",
       "      <td>14634.000000</td>\n",
       "    </tr>\n",
       "    <tr>\n",
       "      <th>1</th>\n",
       "      <td>2</td>\n",
       "      <td>8623.136976</td>\n",
       "    </tr>\n",
       "    <tr>\n",
       "      <th>2</th>\n",
       "      <td>3</td>\n",
       "      <td>7037.467395</td>\n",
       "    </tr>\n",
       "    <tr>\n",
       "      <th>3</th>\n",
       "      <td>4</td>\n",
       "      <td>5740.480402</td>\n",
       "    </tr>\n",
       "    <tr>\n",
       "      <th>4</th>\n",
       "      <td>5</td>\n",
       "      <td>5189.643504</td>\n",
       "    </tr>\n",
       "    <tr>\n",
       "      <th>5</th>\n",
       "      <td>6</td>\n",
       "      <td>4707.817362</td>\n",
       "    </tr>\n",
       "    <tr>\n",
       "      <th>6</th>\n",
       "      <td>7</td>\n",
       "      <td>4349.367587</td>\n",
       "    </tr>\n",
       "    <tr>\n",
       "      <th>7</th>\n",
       "      <td>8</td>\n",
       "      <td>4085.200722</td>\n",
       "    </tr>\n",
       "    <tr>\n",
       "      <th>8</th>\n",
       "      <td>9</td>\n",
       "      <td>3846.385537</td>\n",
       "    </tr>\n",
       "  </tbody>\n",
       "</table>\n",
       "</div>"
      ],
      "text/plain": [
       "   num_clusters  cluster_error\n",
       "0             1   14634.000000\n",
       "1             2    8623.136976\n",
       "2             3    7037.467395\n",
       "3             4    5740.480402\n",
       "4             5    5189.643504\n",
       "5             6    4707.817362\n",
       "6             7    4349.367587\n",
       "7             8    4085.200722\n",
       "8             9    3846.385537"
      ]
     },
     "execution_count": 101,
     "metadata": {},
     "output_type": "execute_result"
    }
   ],
   "source": [
    "cluster_range = range( 1, 10)   # expect 3 to four clusters from the pair panel visual inspection hence restricting from 2 to 6\n",
    "cluster_error=[]\n",
    "for num_clusters in cluster_range:\n",
    "  clusters = KMeans( num_clusters, init = 'k-means++') #5 centroid\n",
    "  clusters.fit(vehicle_scaled)\n",
    "  labels = clusters.labels_                     # capture the cluster lables\n",
    "  centroids = clusters.cluster_centers_         # capture the centroids\n",
    "  cluster_error.append( clusters.inertia_ )    # capture the intertia\n",
    "  \n",
    "\n",
    "\n",
    "# combine the cluster_range and cluster_errors into a dataframe by combining them\n",
    "clusters_df = pd.DataFrame( { \"num_clusters\":cluster_range, \"cluster_error\": cluster_error} )\n",
    "clusters_df[0:15]\n"
   ]
  },
  {
   "cell_type": "code",
   "execution_count": null,
   "metadata": {
    "colab": {},
    "colab_type": "code",
    "id": "NRJo1wzqho_Q"
   },
   "outputs": [],
   "source": []
  },
  {
   "cell_type": "markdown",
   "metadata": {
    "colab_type": "text",
    "id": "JIcSiPyoho_a"
   },
   "source": [
    "### 6. Plotting Elbow/ Scree Plot"
   ]
  },
  {
   "cell_type": "markdown",
   "metadata": {
    "colab_type": "text",
    "id": "Z8Yw5XEsho_r"
   },
   "source": [
    "Use Matplotlib to plot the scree plot - Note: Scree plot plots Errors vs the no of clusters"
   ]
  },
  {
   "cell_type": "code",
   "execution_count": 102,
   "metadata": {
    "colab": {},
    "colab_type": "code",
    "id": "sJ5oE4Csho_v"
   },
   "outputs": [
    {
     "data": {
      "text/plain": [
       "[<matplotlib.lines.Line2D at 0x19944978>]"
      ]
     },
     "execution_count": 102,
     "metadata": {},
     "output_type": "execute_result"
    },
    {
     "data": {
      "image/png": "[encoded data removed]",
      "text/plain": [
       "<Figure size 864x432 with 1 Axes>"
      ]
     },
     "metadata": {
      "needs_background": "light"
     },
     "output_type": "display_data"
    }
   ],
   "source": [
    "# Elbow plot\n",
    "\n",
    "plt.figure(figsize=(12,6))\n",
    "plt.plot( clusters_df.num_clusters, clusters_df.cluster_error, marker = \"o\" )"
   ]
  },
  {
   "cell_type": "markdown",
   "metadata": {
    "colab_type": "text",
    "id": "sGx_Q_4Iho_7"
   },
   "source": [
    "### Find out the optimal value of K"
   ]
  },
  {
   "cell_type": "code",
   "execution_count": 103,
   "metadata": {
    "colab": {},
    "colab_type": "code",
    "id": "i2JjEPrcho__"
   },
   "outputs": [
    {
     "name": "stdout",
     "output_type": "stream",
     "text": [
      "From the above graph, it seems that the optimal value of k:  4\n"
     ]
    }
   ],
   "source": [
    "print('From the above graph, it seems that the optimal value of k: ',4)"
   ]
  },
  {
   "cell_type": "markdown",
   "metadata": {
    "colab_type": "text",
    "id": "5EoRD5PHhpAT"
   },
   "source": [
    "### Using optimal value of K - Cluster the data. \n",
    "Note: Since the data has more than 2 dimension we cannot visualize the data. As an alternative, we can observe the centroids and note how they are distributed across different dimensions"
   ]
  },
  {
   "cell_type": "code",
   "execution_count": 104,
   "metadata": {
    "colab": {},
    "colab_type": "code",
    "id": "68oQ0c2ThpAZ"
   },
   "outputs": [
    {
     "name": "stdout",
     "output_type": "stream",
     "text": [
      "Centroid values\n",
      "sklearn\n",
      "[[-2.25338256e-01 -5.74342724e-01 -3.07614353e-01 -3.81865644e-02\n",
      "   1.81774089e-01 -1.72461386e-01 -4.55562374e-01  3.20123317e-01\n",
      "  -4.83943612e-01 -5.36605811e-01 -4.20567716e-01 -4.60232777e-01\n",
      "  -6.03827964e-01 -6.44323227e-01 -6.09955778e-02  4.54841126e-03\n",
      "   8.24841721e-01  7.07985111e-01]\n",
      " [ 1.15442786e+00  1.18428647e+00  1.21198691e+00  9.73321772e-01\n",
      "   9.49213388e-02  2.18659142e-01  1.29796844e+00 -1.21424667e+00\n",
      "   1.30184458e+00  1.09830595e+00  1.20590258e+00  1.30898668e+00\n",
      "   1.09121291e+00 -1.07878646e-01  1.68326262e-01  2.67954844e-01\n",
      "   4.67043879e-03  1.90327006e-01]\n",
      " [-7.33024343e-01  7.27349604e-02 -2.72170954e-01  2.94768327e+00\n",
      "   6.83665190e+00  8.69670551e+00 -5.35008001e-01  4.66247771e-01\n",
      "  -5.57405972e-01  2.83410527e-01  1.69752769e+00 -5.88068272e-01\n",
      "   2.12700856e-01  4.96563826e+00 -2.74839440e-01 -2.31192779e-01\n",
      "  -7.07994144e-01 -4.53650721e-01]\n",
      " [-9.16832565e-01 -5.26197142e-01 -8.87660194e-01 -1.08730080e+00\n",
      "  -5.63171965e-01 -3.01082567e-01 -7.80129512e-01  8.67496080e-01\n",
      "  -7.46976617e-01 -4.90093382e-01 -8.01399405e-01 -7.84100480e-01\n",
      "  -3.93621965e-01  7.79115435e-01 -9.18548921e-02 -2.83968154e-01\n",
      "  -1.04336571e+00 -1.09942461e+00]]\n"
     ]
    }
   ],
   "source": [
    "kmeans = KMeans(n_clusters=4)\n",
    "kmeans = kmeans.fit(vehicle_scaled)\n",
    "labels = kmeans.predict(vehicle_scaled)\n",
    "centroids = kmeans.cluster_centers_\n",
    "print(\"Centroid values\")\n",
    "\n",
    "print(\"sklearn\")\n",
    "\n",
    "print(centroids)"
   ]
  },
  {
   "cell_type": "markdown",
   "metadata": {
    "colab_type": "text",
    "id": "fY5IjhFihpAm"
   },
   "source": [
    "You can use kmeans.cluster_centers_ function to pull the centroid information from the instance"
   ]
  },
  {
   "cell_type": "code",
   "execution_count": null,
   "metadata": {
    "colab": {},
    "colab_type": "code",
    "id": "vS3GhD4UhpAx"
   },
   "outputs": [],
   "source": []
  },
  {
   "cell_type": "markdown",
   "metadata": {
    "colab_type": "text",
    "id": "A2T8SxBdhpBL"
   },
   "source": [
    "### 7. Store the centroids in a dataframe with column names from the original dataset given "
   ]
  },
  {
   "cell_type": "code",
   "execution_count": 105,
   "metadata": {
    "colab": {},
    "colab_type": "code",
    "id": "xpjTngRNhpBP"
   },
   "outputs": [],
   "source": [
    "vehicle_df = pd.DataFrame(vehicle_scaled)"
   ]
  },
  {
   "cell_type": "markdown",
   "metadata": {
    "colab_type": "text",
    "id": "SvWlZ_FzhpBY"
   },
   "source": [
    "Hint: Use pd.Dataframe function "
   ]
  },
  {
   "cell_type": "code",
   "execution_count": 106,
   "metadata": {
    "colab": {},
    "colab_type": "code",
    "id": "EZ6nJ3BdhpBZ"
   },
   "outputs": [],
   "source": [
    "vehicle_df['group'] = labels"
   ]
  },
  {
   "cell_type": "code",
   "execution_count": null,
   "metadata": {
    "colab": {},
    "colab_type": "code",
    "id": "HPey2b-DhpBh"
   },
   "outputs": [],
   "source": []
  },
  {
   "cell_type": "markdown",
   "metadata": {
    "colab_type": "text",
    "id": "n2kFVi2GhpBn"
   },
   "source": [
    "### Use kmeans.labels_ function to print out the labels of the classes"
   ]
  },
  {
   "cell_type": "code",
   "execution_count": 107,
   "metadata": {
    "colab": {},
    "colab_type": "code",
    "id": "Ahx91q_ghpBp"
   },
   "outputs": [
    {
     "data": {
      "text/plain": [
       "array([0, 0, 1, 0, 2, 0, 0, 0, 0, 0, 0, 0, 0, 1, 3, 0, 1, 3, 3, 0, 0, 1,\n",
       "       0, 3, 1, 1, 3, 0, 0, 0, 1, 0, 3, 2, 1, 3, 1, 3, 3, 0, 1, 3, 3, 3,\n",
       "       3, 0, 3, 0, 1, 0, 1, 0, 0, 3, 1, 3, 1, 3, 3, 3, 0, 3, 1, 0, 1, 1,\n",
       "       0, 3, 0, 1, 0, 3, 3, 1, 0, 3, 0, 1, 0, 3, 0, 3, 1, 0, 1, 0, 3, 1,\n",
       "       3, 3, 1, 3, 2, 0, 0, 3, 1, 1, 3, 3, 1, 0, 0, 3, 3, 3, 0, 1, 1, 0,\n",
       "       3, 3, 0, 3, 3, 3, 3, 3, 0, 1, 1, 0, 0, 3, 1, 2, 3, 0, 3, 0, 0, 1,\n",
       "       3, 0, 1, 0, 0, 0, 0, 1, 0, 0, 1, 0, 1, 0, 3, 0, 3, 1, 0, 0, 1, 1,\n",
       "       0, 1, 3, 3, 1, 1, 0, 1, 0, 0, 0, 0, 3, 1, 3, 0, 3, 1, 0, 0, 0, 1,\n",
       "       0, 1, 0, 1, 0, 3, 1, 3, 3, 3, 0, 0, 1, 1, 0, 0, 0, 3, 1, 0, 0, 0,\n",
       "       1, 3, 3, 1, 3, 0, 1, 3, 3, 3, 0, 1, 0, 1, 3, 3, 3, 3, 1, 0, 3, 0,\n",
       "       1, 3, 0, 0, 3, 1, 3, 3, 0, 0, 1, 3, 1, 3, 0, 0, 1, 0, 0, 1, 1, 3,\n",
       "       0, 0, 0, 1, 3, 0, 0, 3, 3, 0, 0, 1, 0, 3, 3, 1, 0, 0, 3, 3, 1, 3,\n",
       "       0, 1, 3, 0, 2, 0, 0, 1, 0, 1, 3, 0, 0, 1, 0, 0, 0, 3, 0, 1, 1, 1,\n",
       "       1, 3, 0, 1, 3, 3, 3, 0, 3, 1, 1, 3, 1, 0, 3, 1, 3, 0, 0, 1, 1, 3,\n",
       "       1, 1, 3, 1, 0, 0, 0, 3, 3, 1, 1, 1, 0, 0, 0, 1, 3, 0, 3, 1, 0, 0,\n",
       "       1, 0, 1, 1, 1, 0, 3, 3, 1, 3, 3, 3, 0, 0, 0, 0, 3, 1, 1, 3, 3, 1,\n",
       "       3, 1, 3, 1, 0, 3, 0, 3, 2, 1, 3, 0, 0, 0, 1, 0, 0, 0, 0, 1, 0, 1,\n",
       "       0, 1, 0, 3, 3, 0, 0, 0, 3, 3, 0, 3, 1, 0, 0, 3, 3, 1, 0, 3, 0, 0,\n",
       "       1, 0, 1, 0, 1, 1, 3, 3, 1, 0, 3, 3, 0, 1, 1, 3, 0, 1, 1, 3, 1, 1,\n",
       "       1, 0, 0, 0, 0, 0, 1, 3, 3, 0, 1, 0, 0, 1, 0, 3, 1, 3, 3, 1, 0, 3,\n",
       "       1, 1, 1, 3, 1, 1, 3, 0, 3, 1, 1, 0, 0, 3, 3, 1, 0, 3, 1, 1, 0, 3,\n",
       "       1, 1, 0, 3, 3, 1, 1, 1, 3, 3, 1, 1, 1, 0, 0, 1, 3, 0, 1, 0, 3, 3,\n",
       "       0, 1, 3, 0, 0, 3, 2, 1, 0, 1, 1, 0, 3, 0, 1, 1, 3, 3, 0, 1, 0, 1,\n",
       "       1, 0, 0, 0, 0, 3, 3, 3, 0, 0, 1, 3, 3, 0, 3, 1, 0, 1, 3, 3, 1, 1,\n",
       "       0, 1, 0, 0, 0, 1, 0, 3, 0, 1, 0, 0, 3, 1, 1, 1, 1, 0, 3, 3, 3, 1,\n",
       "       1, 1, 0, 1, 3, 0, 1, 3, 3, 3, 0, 3, 1, 0, 0, 0, 0, 0, 0, 1, 0, 0,\n",
       "       1, 0, 0, 0, 3, 1, 3, 3, 0, 3, 0, 0, 3, 3, 1, 1, 3, 0, 1, 3, 1, 0,\n",
       "       0, 1, 0, 3, 1, 3, 1, 3, 3, 0, 3, 0, 1, 1, 3, 1, 0, 0, 3, 0, 3, 1,\n",
       "       0, 1, 3, 0, 0, 0, 3, 3, 3, 0, 1, 0, 1, 3, 0, 0, 0, 0, 1, 0, 3, 1,\n",
       "       0, 1, 0, 0, 1, 3, 1, 3, 0, 0, 0, 3, 1, 0, 3, 0, 1, 3, 1, 0, 0, 1,\n",
       "       3, 0, 3, 0, 0, 3, 0, 1, 1, 0, 0, 1, 1, 2, 0, 3, 0, 1, 1, 1, 1, 0,\n",
       "       1, 0, 0, 1, 1, 0, 1, 0, 1, 0, 3, 1, 0, 3, 1, 1, 1, 0, 1, 3, 3, 1,\n",
       "       1, 1, 0, 1, 0, 0, 1, 0, 3, 0, 3, 0, 1, 0, 3, 0, 0, 0, 3, 1, 3, 3,\n",
       "       3, 1, 1, 3, 1, 1, 3, 0, 0, 1, 0, 3, 1, 1, 3, 0, 0, 1, 1, 1, 3, 1,\n",
       "       0, 1, 1, 3, 3, 1, 3, 1, 0, 3, 0, 1, 1, 0, 3, 0, 1, 1, 0, 0, 3, 0,\n",
       "       0, 1, 3, 0, 1, 3, 3, 1, 3, 0, 3, 3, 3, 0, 1, 1, 0, 3, 1, 0, 1, 1,\n",
       "       3, 0, 1, 3, 3, 0, 0, 1, 3, 3, 1, 3, 0, 0, 0, 0, 0, 0, 1, 0, 3])"
      ]
     },
     "execution_count": 107,
     "metadata": {},
     "output_type": "execute_result"
    }
   ],
   "source": [
    "kmeans.labels_"
   ]
  },
  {
   "cell_type": "code",
   "execution_count": null,
   "metadata": {
    "colab": {},
    "colab_type": "code",
    "id": "hm0AtttihpBv"
   },
   "outputs": [],
   "source": []
  },
  {
   "cell_type": "markdown",
   "metadata": {
    "colab_type": "text",
    "id": "SmQyHhmFhpB3"
   },
   "source": [
    "## Hierarchical Clustering "
   ]
  },
  {
   "cell_type": "markdown",
   "metadata": {
    "colab_type": "text",
    "id": "_zAMRDe_hpB5"
   },
   "source": [
    "### 8. Variable creation"
   ]
  },
  {
   "cell_type": "markdown",
   "metadata": {
    "colab_type": "text",
    "id": "VESIKt49hpB6"
   },
   "source": [
    "For Hierarchical clustering, we will create datasets using multivariate normal distribution to visually observe how the clusters are formed at the end"
   ]
  },
  {
   "cell_type": "code",
   "execution_count": 119,
   "metadata": {
    "colab": {},
    "colab_type": "code",
    "id": "qpUh49bKhpB8"
   },
   "outputs": [],
   "source": [
    "np.random.seed(101)  # for repeatability of this dataset\n",
    "a = np.random.multivariate_normal([10, 0], [[3, 1], [1, 4]], size=[100,])\n",
    "b = np.random.multivariate_normal([0, 20], [[3, 1], [1, 4]], size=[50,])\n",
    "c = np.random.multivariate_normal([10, 20], [[3, 1], [1, 4]], size=[100,])"
   ]
  },
  {
   "cell_type": "markdown",
   "metadata": {
    "colab_type": "raw",
    "id": "cu8DfP8shpCA"
   },
   "source": [
    "a = np.random.multivariate_normal([10, 0], [[3, 1], [1, 4]], size=[100,])\n",
    "b = np.random.multivariate_normal([0, 20], [[3, 1], [1, 4]], size=[50,])\n",
    "c = np.random.multivariate_normal([10, 20], [[3, 1], [1, 4]], size=[100,])"
   ]
  },
  {
   "cell_type": "markdown",
   "metadata": {},
   "source": [
    "https://docs.scipy.org/doc/numpy-1.15.1/reference/generated/numpy.random.multivariate_normal.html"
   ]
  },
  {
   "cell_type": "markdown",
   "metadata": {
    "colab_type": "text",
    "id": "Eui7Qgc8hpCH"
   },
   "source": [
    "### 9. Combine all three arrays a,b,c into a dataframe"
   ]
  },
  {
   "cell_type": "code",
   "execution_count": 145,
   "metadata": {
    "colab": {},
    "colab_type": "code",
    "id": "Nle34XhhhpCI"
   },
   "outputs": [],
   "source": [
    "df1 = pd.DataFrame(a)\n",
    "df2 = pd.DataFrame(b)\n",
    "df3 = pd.DataFrame(c)"
   ]
  },
  {
   "cell_type": "code",
   "execution_count": 146,
   "metadata": {
    "colab": {},
    "colab_type": "code",
    "id": "lov1nQqAhpCa"
   },
   "outputs": [],
   "source": [
    "data_df = pd.concat([df1, df2,df3])"
   ]
  },
  {
   "cell_type": "code",
   "execution_count": 151,
   "metadata": {},
   "outputs": [
    {
     "data": {
      "text/html": [
       "<div>\n",
       "<style scoped>\n",
       "    .dataframe tbody tr th:only-of-type {\n",
       "        vertical-align: middle;\n",
       "    }\n",
       "\n",
       "    .dataframe tbody tr th {\n",
       "        vertical-align: top;\n",
       "    }\n",
       "\n",
       "    .dataframe thead th {\n",
       "        text-align: right;\n",
       "    }\n",
       "</style>\n",
       "<table border=\"1\" class=\"dataframe\">\n",
       "  <thead>\n",
       "    <tr style=\"text-align: right;\">\n",
       "      <th></th>\n",
       "      <th>0</th>\n",
       "      <th>1</th>\n",
       "    </tr>\n",
       "  </thead>\n",
       "  <tbody>\n",
       "    <tr>\n",
       "      <th>0</th>\n",
       "      <td>13.882785</td>\n",
       "      <td>4.438501</td>\n",
       "    </tr>\n",
       "    <tr>\n",
       "      <th>1</th>\n",
       "      <td>11.687256</td>\n",
       "      <td>1.250981</td>\n",
       "    </tr>\n",
       "    <tr>\n",
       "      <th>2</th>\n",
       "      <td>10.316397</td>\n",
       "      <td>1.449346</td>\n",
       "    </tr>\n",
       "    <tr>\n",
       "      <th>3</th>\n",
       "      <td>9.837412</td>\n",
       "      <td>-2.041974</td>\n",
       "    </tr>\n",
       "    <tr>\n",
       "      <th>4</th>\n",
       "      <td>8.691601</td>\n",
       "      <td>-4.289773</td>\n",
       "    </tr>\n",
       "  </tbody>\n",
       "</table>\n",
       "</div>"
      ],
      "text/plain": [
       "           0         1\n",
       "0  13.882785  4.438501\n",
       "1  11.687256  1.250981\n",
       "2  10.316397  1.449346\n",
       "3   9.837412 -2.041974\n",
       "4   8.691601 -4.289773"
      ]
     },
     "execution_count": 151,
     "metadata": {},
     "output_type": "execute_result"
    }
   ],
   "source": []
  },
  {
   "cell_type": "markdown",
   "metadata": {
    "colab_type": "text",
    "id": "v6JlILlihpCe"
   },
   "source": [
    "### 10. Use scatter matrix to print all the 3 distributions"
   ]
  },
  {
   "cell_type": "code",
   "execution_count": 157,
   "metadata": {
    "colab": {},
    "colab_type": "code",
    "id": "i6Nf9LznhpCg"
   },
   "outputs": [
    {
     "data": {
      "text/plain": [
       "<matplotlib.collections.PathCollection at 0x1a45ddd8>"
      ]
     },
     "execution_count": 157,
     "metadata": {},
     "output_type": "execute_result"
    },
    {
     "data": {
      "image/png": "[encoded data removed]",
      "text/plain": [
       "<Figure size 432x288 with 1 Axes>"
      ]
     },
     "metadata": {
      "needs_background": "light"
     },
     "output_type": "display_data"
    }
   ],
   "source": [
    "f1 = data_df[0].values\n",
    "f2 = data_df[1].values\n",
    "X = np.array(list(zip(f1, f2)))\n",
    "\n",
    "plt.scatter(f1, f2, c='red', s=7)"
   ]
  },
  {
   "cell_type": "code",
   "execution_count": 0,
   "metadata": {
    "colab": {},
    "colab_type": "code",
    "id": "hILsbwkOhpCk"
   },
   "outputs": [],
   "source": []
  },
  {
   "cell_type": "markdown",
   "metadata": {
    "colab_type": "text",
    "id": "Ufj36K5NhpCo"
   },
   "source": [
    "### 11. Find out the linkage matrix"
   ]
  },
  {
   "cell_type": "markdown",
   "metadata": {
    "colab": {},
    "colab_type": "code",
    "id": "rXJAOAilhpCp"
   },
   "source": [
    "https://docs.scipy.org/doc/scipy-0.14.0/reference/generated/scipy.cluster.hierarchy.linkage.html"
   ]
  },
  {
   "cell_type": "markdown",
   "metadata": {
    "colab_type": "text",
    "id": "EOxwi5gshpCt"
   },
   "source": [
    "Use ward as linkage metric and distance as Eucledian"
   ]
  },
  {
   "cell_type": "code",
   "execution_count": 159,
   "metadata": {
    "colab": {},
    "colab_type": "code",
    "id": "xJsL16lqhpCu"
   },
   "outputs": [],
   "source": [
    "Z = linkage(data_df, 'ward')"
   ]
  },
  {
   "cell_type": "code",
   "execution_count": 175,
   "metadata": {
    "colab": {},
    "colab_type": "code",
    "id": "A6YN_sjhhpC4"
   },
   "outputs": [
    {
     "name": "stdout",
     "output_type": "stream",
     "text": [
      "ward:  0.9536963071171022\n"
     ]
    }
   ],
   "source": [
    "c, coph_dists = cophenet(Z , pdist(X))\n",
    "print('ward: ',c)\n"
   ]
  },
  {
   "cell_type": "markdown",
   "metadata": {
    "colab_type": "text",
    "id": "UnVS8VYMhpC9"
   },
   "source": [
    "### 12. Plot the dendrogram for the consolidated dataframe"
   ]
  },
  {
   "cell_type": "code",
   "execution_count": 165,
   "metadata": {
    "colab": {},
    "colab_type": "code",
    "id": "oeLtemVqhpC_"
   },
   "outputs": [
    {
     "data": {
      "image/png": "[encoded data removed]",
      "text/plain": [
       "<Figure size 720x504 with 1 Axes>"
      ]
     },
     "metadata": {
      "needs_background": "light"
     },
     "output_type": "display_data"
    }
   ],
   "source": [
    "fig = plt.figure(figsize=(10, 7))\n",
    "dn = dendrogram(Z)"
   ]
  },
  {
   "cell_type": "code",
   "execution_count": 0,
   "metadata": {
    "colab": {},
    "colab_type": "code",
    "id": "TMfqcHfuhpDH"
   },
   "outputs": [],
   "source": []
  },
  {
   "cell_type": "code",
   "execution_count": 0,
   "metadata": {
    "colab": {},
    "colab_type": "code",
    "id": "PJhBRBIwhpDM"
   },
   "outputs": [],
   "source": []
  },
  {
   "cell_type": "markdown",
   "metadata": {
    "colab_type": "text",
    "id": "QXE-T9cHhpDS"
   },
   "source": [
    "### 13. Recreate the dendrogram for last 12 merged clusters "
   ]
  },
  {
   "cell_type": "markdown",
   "metadata": {},
   "source": [
    "https://docs.scipy.org/doc/scipy-0.14.0/reference/generated/scipy.cluster.hierarchy.dendrogram.html"
   ]
  },
  {
   "cell_type": "markdown",
   "metadata": {
    "colab_type": "text",
    "id": "4PKR3o5QhpDX"
   },
   "source": [
    "Hint: Use truncate_mode='lastp' attribute in dendrogram function to arrive at dendrogram "
   ]
  },
  {
   "cell_type": "code",
   "execution_count": 167,
   "metadata": {
    "colab": {},
    "colab_type": "code",
    "id": "GDri9xtAhpDY"
   },
   "outputs": [
    {
     "data": {
      "image/png": "[encoded data removed]",
      "text/plain": [
       "<Figure size 720x504 with 1 Axes>"
      ]
     },
     "metadata": {
      "needs_background": "light"
     },
     "output_type": "display_data"
    }
   ],
   "source": [
    "fig = plt.figure(figsize=(10, 7))\n",
    "dn = dendrogram(Z,truncate_mode='lastp',p=12)"
   ]
  },
  {
   "cell_type": "code",
   "execution_count": 0,
   "metadata": {
    "colab": {},
    "colab_type": "code",
    "id": "k4GVCz44hpDg"
   },
   "outputs": [],
   "source": []
  },
  {
   "cell_type": "markdown",
   "metadata": {
    "colab_type": "text",
    "id": "zjFjCWL5hpDr"
   },
   "source": [
    "### 14. From the truncated dendrogram, find out the optimal distance between clusters which u want to use an input for clustering data"
   ]
  },
  {
   "cell_type": "markdown",
   "metadata": {
    "colab": {},
    "colab_type": "code",
    "id": "DQ5m6orQhpDt"
   },
   "source": [
    "https://docs.scipy.org/doc/scipy-0.15.1/reference/generated/scipy.cluster.hierarchy.fcluster.html"
   ]
  },
  {
   "cell_type": "code",
   "execution_count": 189,
   "metadata": {},
   "outputs": [
    {
     "data": {
      "text/plain": [
       "array([[ 0.        ,  3.87048178,  4.65340407, ..., 16.11000433,\n",
       "        18.19710134, 19.76656409],\n",
       "       [ 3.87048178,  0.        ,  1.38513632, ..., 19.08737757,\n",
       "        20.55500011, 22.77887416],\n",
       "       [ 4.65340407,  1.38513632,  0.        , ..., 18.90779341,\n",
       "        20.08342343, 22.59388337],\n",
       "       ...,\n",
       "       [16.11000433, 19.08737757, 18.90779341, ...,  0.        ,\n",
       "         4.4628717 ,  3.6917172 ],\n",
       "       [18.19710134, 20.55500011, 20.08342343, ...,  4.4628717 ,\n",
       "         0.        ,  5.15068293],\n",
       "       [19.76656409, 22.77887416, 22.59388337, ...,  3.6917172 ,\n",
       "         5.15068293,  0.        ]])"
      ]
     },
     "execution_count": 189,
     "metadata": {},
     "output_type": "execute_result"
    }
   ],
   "source": [
    "Y = cdist(data_df,data_df, 'euclidean')\n",
    "Y"
   ]
  },
  {
   "cell_type": "code",
   "execution_count": 197,
   "metadata": {
    "colab": {},
    "colab_type": "code",
    "id": "5-yUhkgMhpDx"
   },
   "outputs": [
    {
     "data": {
      "text/plain": [
       "<matplotlib.lines.Line2D at 0x1d364fd0>"
      ]
     },
     "execution_count": 197,
     "metadata": {},
     "output_type": "execute_result"
    },
    {
     "data": {
      "image/png": "[encoded data removed]",
      "text/plain": [
       "<Figure size 720x1440 with 1 Axes>"
      ]
     },
     "metadata": {
      "needs_background": "light"
     },
     "output_type": "display_data"
    }
   ],
   "source": [
    "plt.figure(figsize=(10, 20))  \n",
    "plt.title(\"Dendrograms\")  \n",
    "dend = sch.dendrogram(sch.linkage(data_df, method='average'))\n",
    "plt.axhline(y=12.5, color='g', linestyle='--')\n",
    "plt.axhline(y=8.5, color='r', linestyle='-.')\n"
   ]
  },
  {
   "cell_type": "code",
   "execution_count": 198,
   "metadata": {},
   "outputs": [
    {
     "name": "stdout",
     "output_type": "stream",
     "text": [
      "From above diagram, we can say that 8.5 can be taken as the distance\n"
     ]
    }
   ],
   "source": [
    "print('From above diagram, we can say that 8.5 can be taken as the distance')"
   ]
  },
  {
   "cell_type": "markdown",
   "metadata": {
    "colab_type": "text",
    "id": "owSZBbSUhpEC"
   },
   "source": [
    "### 15. Using this distance measure and fcluster function to cluster the data into 3 different groups"
   ]
  },
  {
   "cell_type": "code",
   "execution_count": 0,
   "metadata": {
    "colab": {},
    "colab_type": "code",
    "id": "HLVorGUEhpEE"
   },
   "outputs": [],
   "source": []
  },
  {
   "cell_type": "code",
   "execution_count": 0,
   "metadata": {
    "colab": {},
    "colab_type": "code",
    "id": "Rgty9iOlhpEL"
   },
   "outputs": [],
   "source": []
  },
  {
   "cell_type": "markdown",
   "metadata": {
    "colab_type": "text",
    "id": "642Ur5TWhpEX"
   },
   "source": [
    "### Use matplotlib to visually observe the clusters in 2D space "
   ]
  },
  {
   "cell_type": "code",
   "execution_count": 0,
   "metadata": {
    "colab": {},
    "colab_type": "code",
    "id": "YHHSylfQhpEX"
   },
   "outputs": [],
   "source": []
  }
 ],
 "metadata": {
  "colab": {
   "collapsed_sections": [
    "n2kFVi2GhpBn",
    "Ufj36K5NhpCo",
    "zjFjCWL5hpDr",
    "owSZBbSUhpEC",
    "642Ur5TWhpEX"
   ],
   "name": "R4_Internal_Lab_Clustering.ipynb",
   "provenance": [],
   "version": "0.3.2"
  },
  "kernelspec": {
   "display_name": "Python 3",
   "language": "python",
   "name": "python3"
  },
  "language_info": {
   "codemirror_mode": {
    "name": "ipython",
    "version": 3
   },
   "file_extension": ".py",
   "mimetype": "text/x-python",
   "name": "python",
   "nbconvert_exporter": "python",
   "pygments_lexer": "ipython3",
   "version": "3.7.3"
  }
 },
 "nbformat": 4,
 "nbformat_minor": 1
}
